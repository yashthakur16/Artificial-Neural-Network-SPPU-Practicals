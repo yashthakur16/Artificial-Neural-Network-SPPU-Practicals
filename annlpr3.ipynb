{
  "nbformat": 4,
  "nbformat_minor": 0,
  "metadata": {
    "colab": {
      "provenance": [],
      "include_colab_link": true
    },
    "kernelspec": {
      "name": "python3",
      "display_name": "Python 3"
    },
    "language_info": {
      "name": "python"
    }
  },
  "cells": [
    {
      "cell_type": "markdown",
      "metadata": {
        "id": "view-in-github",
        "colab_type": "text"
      },
      "source": [
        "<a href=\"https://colab.research.google.com/github/Tejas9523/ANNLAB/blob/main/annlpr3.ipynb\" target=\"_parent\"><img src=\"https://colab.research.google.com/assets/colab-badge.svg\" alt=\"Open In Colab\"/></a>"
      ]
    },
    {
      "cell_type": "code",
      "source": [
        "import numpy as np"
      ],
      "metadata": {
        "id": "ivE67MEx4hAx"
      },
      "execution_count": 19,
      "outputs": []
    },
    {
      "cell_type": "code",
      "source": [
        "j = int(input(\"Enter a Number (0-9): \"))\n",
        "step_function = lambda x: 1 if x >= 0 else 0"
      ],
      "metadata": {
        "id": "XS-tQ8lz6MIW"
      },
      "execution_count": null,
      "outputs": []
    },
    {
      "cell_type": "code",
      "source": [
        "training_data = [\n",
        "    {'input': [1, 1, 0, 0, 0, 0], 'label': 1},\n",
        "    {'input': [1, 1, 0, 0, 0, 1], 'label': 0},\n",
        "    {'input': [1, 1, 0, 0, 1, 0], 'label': 1},\n",
        "    {'input': [1, 1, 0, 1, 1, 1], 'label': 0},\n",
        "    {'input': [1, 1, 0, 1, 0, 0], 'label': 1},\n",
        "    {'input': [1, 1, 0, 1, 0, 1], 'label': 0},\n",
        "    {'input': [1, 1, 0, 1, 1, 0], 'label': 1},\n",
        "    {'input': [1, 1, 0, 1, 1, 1], 'label': 0},\n",
        "    {'input': [1, 1, 1, 0, 0, 0], 'label': 1},\n",
        "    {'input': [1, 1, 1, 0, 0, 1], 'label': 0},\n",
        "]"
      ],
      "metadata": {
        "id": "3-crPZQT4mmS"
      },
      "execution_count": 20,
      "outputs": []
    },
    {
      "cell_type": "code",
      "source": [
        "weights = np.array([0, 0, 0, 0, 0, 1])"
      ],
      "metadata": {
        "id": "VaHaW6B24oum"
      },
      "execution_count": 21,
      "outputs": []
    },
    {
      "cell_type": "code",
      "source": [
        "for data in training_data:\n",
        "    input = np.array(data['input'])\n",
        "    label = data['label']\n",
        "    output = step_function(np.dot(input, weights))\n",
        "    error = label - output\n",
        "    weights += input * error"
      ],
      "metadata": {
        "id": "32WSG0di4qGB"
      },
      "execution_count": 22,
      "outputs": []
    },
    {
      "cell_type": "code",
      "source": [
        "input = np.array([int(x) for x in list('{0:06b}'.format(j))])\n",
        "output = \"odd\" if step_function(np.dot(input, weights)) == 0 else \"even\"\n",
        "print(j, \" is \", output)"
      ],
      "metadata": {
        "colab": {
          "base_uri": "https://localhost:8080/"
        },
        "id": "BUFopKm14rUG",
        "outputId": "fa6cb737-7255-4871-bb54-cffc70bc1abf"
      },
      "execution_count": 23,
      "outputs": [
        {
          "output_type": "stream",
          "name": "stdout",
          "text": [
            "1  is  odd\n"
          ]
        }
      ]
    }
  ]
}
