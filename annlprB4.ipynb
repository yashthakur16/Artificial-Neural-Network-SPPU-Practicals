{
  "nbformat": 4,
  "nbformat_minor": 0,
  "metadata": {
    "colab": {
      "provenance": [],
      "authorship_tag": "ABX9TyPv2VEDw2GH5JkfNCDD9PYI",
      "include_colab_link": true
    },
    "kernelspec": {
      "name": "python3",
      "display_name": "Python 3"
    },
    "language_info": {
      "name": "python"
    }
  },
  "cells": [
    {
      "cell_type": "markdown",
      "metadata": {
        "id": "view-in-github",
        "colab_type": "text"
      },
      "source": [
        "<a href=\"https://colab.research.google.com/github/Tejas9523/ANNLAB/blob/main/annlprB4.ipynb\" target=\"_parent\"><img src=\"https://colab.research.google.com/assets/colab-badge.svg\" alt=\"Open In Colab\"/></a>"
      ]
    },
    {
      "cell_type": "code",
      "source": [
        "import numpy as np\n",
        "# Define the 4 vectors to be stored\n",
        "vectors = np.array([[1, 1, -1, -1],\n",
        "                    [-1, -1, 1, 1],\n",
        "                    [1, -1, 1, -1],\n",
        "                    [-1, 1, -1, 1]])"
      ],
      "metadata": {
        "id": "3GH2d346_tpR"
      },
      "execution_count": 1,
      "outputs": []
    },
    {
      "cell_type": "code",
      "source": [
        "# Calculate the weight matrix\n",
        "weights = np.zeros((4, 4))\n",
        "for i in range(4):\n",
        "    for j in range(4):\n",
        "        if i == j:\n",
        "            weights[i, j] = 0\n",
        "        else:\n",
        "            weights[i, j] = np.sum(vectors[i] * vectors[j])"
      ],
      "metadata": {
        "id": "huxdhwKS_ym-"
      },
      "execution_count": 2,
      "outputs": []
    },
    {
      "cell_type": "code",
      "source": [
        "# Define the activation function (in this case, a sign function)\n",
        "def activation(x):\n",
        "    return np.where(x >= 0, 1, -1)"
      ],
      "metadata": {
        "id": "-L0o4bAY_0uC"
      },
      "execution_count": 3,
      "outputs": []
    },
    {
      "cell_type": "code",
      "source": [
        "# Define the Hopfield network function\n",
        "def hopfield(input_vector, weights):\n",
        "    output_vector = activation(np.dot(weights, input_vector))\n",
        "    return output_vector"
      ],
      "metadata": {
        "id": "r2SdjYxn_2YF"
      },
      "execution_count": 4,
      "outputs": []
    },
    {
      "cell_type": "code",
      "source": [
        "# Test the Hopfield network with one of the stored vectors as input\n",
        "input_vector = vectors[0]\n",
        "output_vector = hopfield(input_vector, weights)\n",
        "print(\"Input vector:\")\n",
        "print(input_vector)\n",
        "print(\"Output vector:\")\n",
        "print(output_vector)"
      ],
      "metadata": {
        "id": "REg2Idz4_39O",
        "outputId": "c6ac8767-4be9-4624-b801-dace5730818e",
        "colab": {
          "base_uri": "https://localhost:8080/"
        }
      },
      "execution_count": 5,
      "outputs": [
        {
          "output_type": "stream",
          "name": "stdout",
          "text": [
            "Input vector:\n",
            "[ 1  1 -1 -1]\n",
            "Output vector:\n",
            "[-1 -1  1  1]\n"
          ]
        }
      ]
    }
  ]
}