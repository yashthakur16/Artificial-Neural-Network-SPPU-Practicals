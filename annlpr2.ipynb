{
  "nbformat": 4,
  "nbformat_minor": 0,
  "metadata": {
    "colab": {
      "provenance": [],
      "authorship_tag": "ABX9TyP5G1HzeUPEMF4gCQ8c2y3J",
      "include_colab_link": true
    },
    "kernelspec": {
      "name": "python3",
      "display_name": "Python 3"
    },
    "language_info": {
      "name": "python"
    }
  },
  "cells": [
    {
      "cell_type": "markdown",
      "metadata": {
        "id": "view-in-github",
        "colab_type": "text"
      },
      "source": [
        "<a href=\"https://colab.research.google.com/github/Tejas9523/ANNLAB/blob/main/annlpr2.ipynb\" target=\"_parent\"><img src=\"https://colab.research.google.com/assets/colab-badge.svg\" alt=\"Open In Colab\"/></a>"
      ]
    },
    {
      "cell_type": "code",
      "execution_count": 6,
      "metadata": {
        "id": "uVr885YyFK0p"
      },
      "outputs": [],
      "source": [
        "import numpy as np"
      ]
    },
    {
      "cell_type": "code",
      "source": [
        "def mp_neuron(inputs, weights, threshold):\n",
        "    weighted_sum = np.dot(inputs, weights)\n",
        "    output = 1 if weighted_sum >= threshold else 0\n",
        "    return output"
      ],
      "metadata": {
        "id": "F-OkIzpj3oB4"
      },
      "execution_count": 7,
      "outputs": []
    },
    {
      "cell_type": "code",
      "source": [
        "def and_not(x1, x2):\n",
        "    weights = [1, -1]\n",
        "    threshold = 1\n",
        "    inputs = np.array([x1, x2])\n",
        "    output = mp_neuron(inputs, weights, threshold)\n",
        "    return output"
      ],
      "metadata": {
        "id": "vlwtm64n3qZx"
      },
      "execution_count": 9,
      "outputs": []
    },
    {
      "cell_type": "code",
      "source": [
        "print(and_not(0, 0))\n",
        "print(and_not(1, 0))\n",
        "print(and_not(0, 1))\n",
        "print(and_not(1, 1))"
      ],
      "metadata": {
        "colab": {
          "base_uri": "https://localhost:8080/"
        },
        "id": "uhRDYxts3slM",
        "outputId": "063e35b8-8a94-4ddd-c4e4-efeaad99fec8"
      },
      "execution_count": 10,
      "outputs": [
        {
          "output_type": "stream",
          "name": "stdout",
          "text": [
            "0\n",
            "1\n",
            "0\n",
            "0\n"
          ]
        }
      ]
    }
  ]
}