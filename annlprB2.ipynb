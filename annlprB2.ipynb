{
  "nbformat": 4,
  "nbformat_minor": 0,
  "metadata": {
    "colab": {
      "provenance": [],
      "authorship_tag": "ABX9TyOLAtSg2in54CY+iCFOybx7",
      "include_colab_link": true
    },
    "kernelspec": {
      "name": "python3",
      "display_name": "Python 3"
    },
    "language_info": {
      "name": "python"
    }
  },
  "cells": [
    {
      "cell_type": "markdown",
      "metadata": {
        "id": "view-in-github",
        "colab_type": "text"
      },
      "source": [
        "<a href=\"https://colab.research.google.com/github/Tejas9523/ANNLAB/blob/main/annlprB2.ipynb\" target=\"_parent\"><img src=\"https://colab.research.google.com/assets/colab-badge.svg\" alt=\"Open In Colab\"/></a>"
      ]
    },
    {
      "cell_type": "code",
      "source": [
        "import numpy as np"
      ],
      "metadata": {
        "id": "a1vG4gIWB8XD"
      },
      "execution_count": 1,
      "outputs": []
    },
    {
      "cell_type": "code",
      "source": [
        "class ARTNode:\n",
        "  \"\"\"\n",
        "  Represents a single node in the ART network.\n",
        "  \"\"\"\n",
        "  def __init__(self, vigilance):\n",
        "    self.vigilance = vigilance  # Matching threshold (0 to 1)\n",
        "    self.weights = None  # None initially, learned later"
      ],
      "metadata": {
        "id": "1ld9uY01DCzD"
      },
      "execution_count": 2,
      "outputs": []
    },
    {
      "cell_type": "code",
      "source": [
        "vigilance = 0.8  # Matching threshold (0 to 1)\n",
        "learning_rate = 0.1  # Learning rate for weight updates\n",
        "data = [np.array([0.1, 0.2, 0.3]), np.array([0.2, 0.3, 0.4]),\n",
        "        np.array([0.7, 0.8, 0.9]), np.array([0.8, 0.7, 0.6])]"
      ],
      "metadata": {
        "id": "EERYfYHRDIto"
      },
      "execution_count": 3,
      "outputs": []
    },
    {
      "cell_type": "code",
      "source": [
        "nodes = []\n",
        "for pattern in data:\n",
        "  found_match = False\n",
        "  for node in nodes:\n",
        "    # Calculate similarity between pattern and node weights\n",
        "    similarity = np.dot(pattern, node.weights) / (np.linalg.norm(pattern) * np.linalg.norm(node.weights))\n",
        "\n",
        "    # Check if similarity meets vigilance criteria\n",
        "    if similarity >= vigilance:\n",
        "      # Update node weights with learning rate\n",
        "      node.weights = (1 - learning_rate) * node.weights + learning_rate * pattern\n",
        "      found_match = True\n",
        "      break\n",
        "\n",
        "  # If no match found, create a new node with this pattern as its weight\n",
        "  if not found_match:\n",
        "    new_node = ARTNode(vigilance)\n",
        "    new_node.weights = pattern.copy()\n",
        "    nodes.append(new_node)"
      ],
      "metadata": {
        "id": "PIrM4P-9DGky"
      },
      "execution_count": 4,
      "outputs": []
    },
    {
      "cell_type": "code",
      "source": [
        "# Print the weights of each cluster node\n",
        "for node in nodes:\n",
        "  print(\"Cluster weights:\", node.weights)"
      ],
      "metadata": {
        "id": "n28m2sBnDL_v",
        "colab": {
          "base_uri": "https://localhost:8080/"
        },
        "outputId": "5ef15c3e-f87c-496b-afc7-a0fcfc1f621e"
      },
      "execution_count": 5,
      "outputs": [
        {
          "output_type": "stream",
          "name": "stdout",
          "text": [
            "Cluster weights: [0.2321 0.3121 0.3921]\n"
          ]
        }
      ]
    },
    {
      "cell_type": "code",
      "source": [],
      "metadata": {
        "id": "9QHKLBugFLlL"
      },
      "execution_count": null,
      "outputs": []
    }
  ]
}