{
  "nbformat": 4,
  "nbformat_minor": 0,
  "metadata": {
    "colab": {
      "provenance": [],
      "authorship_tag": "ABX9TyMbE8171iVeR+6SZG4zaZM0",
      "include_colab_link": true
    },
    "kernelspec": {
      "name": "python3",
      "display_name": "Python 3"
    },
    "language_info": {
      "name": "python"
    }
  },
  "cells": [
    {
      "cell_type": "markdown",
      "metadata": {
        "id": "view-in-github",
        "colab_type": "text"
      },
      "source": [
        "<a href=\"https://colab.research.google.com/github/Tejas9523/ANNLAB/blob/main/annlpr5.ipynb\" target=\"_parent\"><img src=\"https://colab.research.google.com/assets/colab-badge.svg\" alt=\"Open In Colab\"/></a>"
      ]
    },
    {
      "cell_type": "code",
      "execution_count": 1,
      "metadata": {
        "colab": {
          "base_uri": "https://localhost:8080/"
        },
        "id": "_VE4n5hjcGIc",
        "outputId": "a4564bf7-f9a3-4408-cad9-fbb67445c4b5"
      },
      "outputs": [
        {
          "output_type": "stream",
          "name": "stdout",
          "text": [
            "Input x: [ 1 -1 -1 -1]\n",
            "Output y: [ 1 -1]\n"
          ]
        }
      ],
      "source": [
        "import numpy as np\n",
        "X = np.array([[1, 1, 1, -1], [-1, -1, 1, 1]])\n",
        "Y = np.array([[1, -1], [-1, 1]])\n",
        "W = np.dot(Y.T, X)\n",
        "\n",
        "def bam(x):\n",
        "    return np.sign(np.dot(W, x))\n",
        "\n",
        "x_test = np.array([1, -1, -1, -1])\n",
        "y_test = bam(x_test)\n",
        "\n",
        "\n",
        "print(\"Input x:\", x_test)\n",
        "print(\"Output y:\", y_test)"
      ]
    }
  ]
}